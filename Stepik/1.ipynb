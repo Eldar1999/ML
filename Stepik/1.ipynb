{
 "cells": [
  {
   "cell_type": "code",
   "execution_count": 410,
   "outputs": [],
   "source": [
    "import pandas as pd\n",
    "import numpy as np"
   ],
   "metadata": {
    "collapsed": false,
    "pycharm": {
     "name": "#%% Step 1.4.10\n"
    }
   }
  },
  {
   "cell_type": "code",
   "execution_count": 411,
   "outputs": [],
   "source": [
    "data_set = pd.read_csv('https://stepik.org/media/attachments/course/4852/titanic.csv')"
   ],
   "metadata": {
    "collapsed": false,
    "pycharm": {
     "name": "#%%\n"
    }
   }
  },
  {
   "cell_type": "code",
   "execution_count": 412,
   "outputs": [
    {
     "data": {
      "text/plain": "(891, 12)"
     },
     "execution_count": 412,
     "metadata": {},
     "output_type": "execute_result"
    }
   ],
   "source": [
    "data_set.shape"
   ],
   "metadata": {
    "collapsed": false,
    "pycharm": {
     "name": "#%%\n"
    }
   }
  },
  {
   "cell_type": "code",
   "execution_count": 413,
   "outputs": [
    {
     "data": {
      "text/plain": "      Age     Fare\n0    22.0   7.2500\n1    38.0  71.2833\n2    26.0   7.9250\n3    35.0  53.1000\n4    35.0   8.0500\n..    ...      ...\n886  27.0  13.0000\n887  19.0  30.0000\n888   NaN  23.4500\n889  26.0  30.0000\n890  32.0   7.7500\n\n[891 rows x 2 columns]",
      "text/html": "<div>\n<style scoped>\n    .dataframe tbody tr th:only-of-type {\n        vertical-align: middle;\n    }\n\n    .dataframe tbody tr th {\n        vertical-align: top;\n    }\n\n    .dataframe thead th {\n        text-align: right;\n    }\n</style>\n<table border=\"1\" class=\"dataframe\">\n  <thead>\n    <tr style=\"text-align: right;\">\n      <th></th>\n      <th>Age</th>\n      <th>Fare</th>\n    </tr>\n  </thead>\n  <tbody>\n    <tr>\n      <th>0</th>\n      <td>22.0</td>\n      <td>7.2500</td>\n    </tr>\n    <tr>\n      <th>1</th>\n      <td>38.0</td>\n      <td>71.2833</td>\n    </tr>\n    <tr>\n      <th>2</th>\n      <td>26.0</td>\n      <td>7.9250</td>\n    </tr>\n    <tr>\n      <th>3</th>\n      <td>35.0</td>\n      <td>53.1000</td>\n    </tr>\n    <tr>\n      <th>4</th>\n      <td>35.0</td>\n      <td>8.0500</td>\n    </tr>\n    <tr>\n      <th>...</th>\n      <td>...</td>\n      <td>...</td>\n    </tr>\n    <tr>\n      <th>886</th>\n      <td>27.0</td>\n      <td>13.0000</td>\n    </tr>\n    <tr>\n      <th>887</th>\n      <td>19.0</td>\n      <td>30.0000</td>\n    </tr>\n    <tr>\n      <th>888</th>\n      <td>NaN</td>\n      <td>23.4500</td>\n    </tr>\n    <tr>\n      <th>889</th>\n      <td>26.0</td>\n      <td>30.0000</td>\n    </tr>\n    <tr>\n      <th>890</th>\n      <td>32.0</td>\n      <td>7.7500</td>\n    </tr>\n  </tbody>\n</table>\n<p>891 rows × 2 columns</p>\n</div>"
     },
     "execution_count": 413,
     "metadata": {},
     "output_type": "execute_result"
    }
   ],
   "source": [
    "data_set.select_dtypes(include=float)"
   ],
   "metadata": {
    "collapsed": false,
    "pycharm": {
     "name": "#%%\n"
    }
   }
  },
  {
   "cell_type": "code",
   "execution_count": 414,
   "outputs": [
    {
     "data": {
      "text/plain": "     PassengerId  Survived  Pclass  SibSp  Parch\n0              1         0       3      1      0\n1              2         1       1      1      0\n2              3         1       3      0      0\n3              4         1       1      1      0\n4              5         0       3      0      0\n..           ...       ...     ...    ...    ...\n886          887         0       2      0      0\n887          888         1       1      0      0\n888          889         0       3      1      2\n889          890         1       1      0      0\n890          891         0       3      0      0\n\n[891 rows x 5 columns]",
      "text/html": "<div>\n<style scoped>\n    .dataframe tbody tr th:only-of-type {\n        vertical-align: middle;\n    }\n\n    .dataframe tbody tr th {\n        vertical-align: top;\n    }\n\n    .dataframe thead th {\n        text-align: right;\n    }\n</style>\n<table border=\"1\" class=\"dataframe\">\n  <thead>\n    <tr style=\"text-align: right;\">\n      <th></th>\n      <th>PassengerId</th>\n      <th>Survived</th>\n      <th>Pclass</th>\n      <th>SibSp</th>\n      <th>Parch</th>\n    </tr>\n  </thead>\n  <tbody>\n    <tr>\n      <th>0</th>\n      <td>1</td>\n      <td>0</td>\n      <td>3</td>\n      <td>1</td>\n      <td>0</td>\n    </tr>\n    <tr>\n      <th>1</th>\n      <td>2</td>\n      <td>1</td>\n      <td>1</td>\n      <td>1</td>\n      <td>0</td>\n    </tr>\n    <tr>\n      <th>2</th>\n      <td>3</td>\n      <td>1</td>\n      <td>3</td>\n      <td>0</td>\n      <td>0</td>\n    </tr>\n    <tr>\n      <th>3</th>\n      <td>4</td>\n      <td>1</td>\n      <td>1</td>\n      <td>1</td>\n      <td>0</td>\n    </tr>\n    <tr>\n      <th>4</th>\n      <td>5</td>\n      <td>0</td>\n      <td>3</td>\n      <td>0</td>\n      <td>0</td>\n    </tr>\n    <tr>\n      <th>...</th>\n      <td>...</td>\n      <td>...</td>\n      <td>...</td>\n      <td>...</td>\n      <td>...</td>\n    </tr>\n    <tr>\n      <th>886</th>\n      <td>887</td>\n      <td>0</td>\n      <td>2</td>\n      <td>0</td>\n      <td>0</td>\n    </tr>\n    <tr>\n      <th>887</th>\n      <td>888</td>\n      <td>1</td>\n      <td>1</td>\n      <td>0</td>\n      <td>0</td>\n    </tr>\n    <tr>\n      <th>888</th>\n      <td>889</td>\n      <td>0</td>\n      <td>3</td>\n      <td>1</td>\n      <td>2</td>\n    </tr>\n    <tr>\n      <th>889</th>\n      <td>890</td>\n      <td>1</td>\n      <td>1</td>\n      <td>0</td>\n      <td>0</td>\n    </tr>\n    <tr>\n      <th>890</th>\n      <td>891</td>\n      <td>0</td>\n      <td>3</td>\n      <td>0</td>\n      <td>0</td>\n    </tr>\n  </tbody>\n</table>\n<p>891 rows × 5 columns</p>\n</div>"
     },
     "execution_count": 414,
     "metadata": {},
     "output_type": "execute_result"
    }
   ],
   "source": [
    "data_set.select_dtypes(include=int)"
   ],
   "metadata": {
    "collapsed": false,
    "pycharm": {
     "name": "#%%\n"
    }
   }
  },
  {
   "cell_type": "code",
   "execution_count": 415,
   "outputs": [
    {
     "data": {
      "text/plain": "                                                  Name     Sex  \\\n0                              Braund, Mr. Owen Harris    male   \n1    Cumings, Mrs. John Bradley (Florence Briggs Th...  female   \n2                               Heikkinen, Miss. Laina  female   \n3         Futrelle, Mrs. Jacques Heath (Lily May Peel)  female   \n4                             Allen, Mr. William Henry    male   \n..                                                 ...     ...   \n886                              Montvila, Rev. Juozas    male   \n887                       Graham, Miss. Margaret Edith  female   \n888           Johnston, Miss. Catherine Helen \"Carrie\"  female   \n889                              Behr, Mr. Karl Howell    male   \n890                                Dooley, Mr. Patrick    male   \n\n               Ticket Cabin Embarked  \n0           A/5 21171   NaN        S  \n1            PC 17599   C85        C  \n2    STON/O2. 3101282   NaN        S  \n3              113803  C123        S  \n4              373450   NaN        S  \n..                ...   ...      ...  \n886            211536   NaN        S  \n887            112053   B42        S  \n888        W./C. 6607   NaN        S  \n889            111369  C148        C  \n890            370376   NaN        Q  \n\n[891 rows x 5 columns]",
      "text/html": "<div>\n<style scoped>\n    .dataframe tbody tr th:only-of-type {\n        vertical-align: middle;\n    }\n\n    .dataframe tbody tr th {\n        vertical-align: top;\n    }\n\n    .dataframe thead th {\n        text-align: right;\n    }\n</style>\n<table border=\"1\" class=\"dataframe\">\n  <thead>\n    <tr style=\"text-align: right;\">\n      <th></th>\n      <th>Name</th>\n      <th>Sex</th>\n      <th>Ticket</th>\n      <th>Cabin</th>\n      <th>Embarked</th>\n    </tr>\n  </thead>\n  <tbody>\n    <tr>\n      <th>0</th>\n      <td>Braund, Mr. Owen Harris</td>\n      <td>male</td>\n      <td>A/5 21171</td>\n      <td>NaN</td>\n      <td>S</td>\n    </tr>\n    <tr>\n      <th>1</th>\n      <td>Cumings, Mrs. John Bradley (Florence Briggs Th...</td>\n      <td>female</td>\n      <td>PC 17599</td>\n      <td>C85</td>\n      <td>C</td>\n    </tr>\n    <tr>\n      <th>2</th>\n      <td>Heikkinen, Miss. Laina</td>\n      <td>female</td>\n      <td>STON/O2. 3101282</td>\n      <td>NaN</td>\n      <td>S</td>\n    </tr>\n    <tr>\n      <th>3</th>\n      <td>Futrelle, Mrs. Jacques Heath (Lily May Peel)</td>\n      <td>female</td>\n      <td>113803</td>\n      <td>C123</td>\n      <td>S</td>\n    </tr>\n    <tr>\n      <th>4</th>\n      <td>Allen, Mr. William Henry</td>\n      <td>male</td>\n      <td>373450</td>\n      <td>NaN</td>\n      <td>S</td>\n    </tr>\n    <tr>\n      <th>...</th>\n      <td>...</td>\n      <td>...</td>\n      <td>...</td>\n      <td>...</td>\n      <td>...</td>\n    </tr>\n    <tr>\n      <th>886</th>\n      <td>Montvila, Rev. Juozas</td>\n      <td>male</td>\n      <td>211536</td>\n      <td>NaN</td>\n      <td>S</td>\n    </tr>\n    <tr>\n      <th>887</th>\n      <td>Graham, Miss. Margaret Edith</td>\n      <td>female</td>\n      <td>112053</td>\n      <td>B42</td>\n      <td>S</td>\n    </tr>\n    <tr>\n      <th>888</th>\n      <td>Johnston, Miss. Catherine Helen \"Carrie\"</td>\n      <td>female</td>\n      <td>W./C. 6607</td>\n      <td>NaN</td>\n      <td>S</td>\n    </tr>\n    <tr>\n      <th>889</th>\n      <td>Behr, Mr. Karl Howell</td>\n      <td>male</td>\n      <td>111369</td>\n      <td>C148</td>\n      <td>C</td>\n    </tr>\n    <tr>\n      <th>890</th>\n      <td>Dooley, Mr. Patrick</td>\n      <td>male</td>\n      <td>370376</td>\n      <td>NaN</td>\n      <td>Q</td>\n    </tr>\n  </tbody>\n</table>\n<p>891 rows × 5 columns</p>\n</div>"
     },
     "execution_count": 415,
     "metadata": {},
     "output_type": "execute_result"
    }
   ],
   "source": [
    "data_set.select_dtypes(include=object)"
   ],
   "metadata": {
    "collapsed": false,
    "pycharm": {
     "name": "#%%\n"
    }
   }
  },
  {
   "cell_type": "code",
   "execution_count": 416,
   "outputs": [],
   "source": [
    "data_set = pd.read_csv('https://stepik.org/media/attachments/course/4852/StudentsPerformance.csv')"
   ],
   "metadata": {
    "collapsed": false,
    "pycharm": {
     "name": "#%% Step 1.5.6\n"
    }
   }
  },
  {
   "cell_type": "code",
   "execution_count": 417,
   "outputs": [
    {
     "data": {
      "text/plain": "0.355"
     },
     "execution_count": 417,
     "metadata": {},
     "output_type": "execute_result"
    }
   ],
   "source": [
    "data_set[data_set['lunch'] == 'free/reduced'].shape[0] / data_set.shape[0]"
   ],
   "metadata": {
    "collapsed": false,
    "pycharm": {
     "name": "#%%\n"
    }
   }
  },
  {
   "cell_type": "code",
   "execution_count": 418,
   "outputs": [
    {
     "name": "stderr",
     "output_type": "stream",
     "text": [
      "C:\\Users\\ETTO\\AppData\\Local\\Temp/ipykernel_11604/2923996885.py:1: FutureWarning: Dropping of nuisance columns in DataFrame reductions (with 'numeric_only=None') is deprecated; in a future version this will raise TypeError.  Select only valid columns before calling the reduction.\n",
      "  data_set[data_set['lunch'] == 'free/reduced'].mean()\n"
     ]
    },
    {
     "data": {
      "text/plain": "math score       58.921127\nreading score    64.653521\nwriting score    63.022535\ndtype: float64"
     },
     "execution_count": 418,
     "metadata": {},
     "output_type": "execute_result"
    }
   ],
   "source": [
    "data_set[data_set['lunch'] == 'free/reduced'].mean()"
   ],
   "metadata": {
    "collapsed": false,
    "pycharm": {
     "name": "#%%\n"
    }
   }
  },
  {
   "cell_type": "code",
   "execution_count": 419,
   "outputs": [
    {
     "name": "stderr",
     "output_type": "stream",
     "text": [
      "C:\\Users\\ETTO\\AppData\\Local\\Temp/ipykernel_11604/3104863048.py:1: FutureWarning: Dropping of nuisance columns in DataFrame reductions (with 'numeric_only=None') is deprecated; in a future version this will raise TypeError.  Select only valid columns before calling the reduction.\n",
      "  data_set[data_set['lunch'] == 'free/reduced'].var()\n"
     ]
    },
    {
     "data": {
      "text/plain": "math score       229.824270\nreading score    221.871139\nwriting score    238.202881\ndtype: float64"
     },
     "execution_count": 419,
     "metadata": {},
     "output_type": "execute_result"
    }
   ],
   "source": [
    "data_set[data_set['lunch'] == 'free/reduced'].var()"
   ],
   "metadata": {
    "collapsed": false,
    "pycharm": {
     "name": "#%%\n"
    }
   }
  },
  {
   "cell_type": "code",
   "execution_count": 420,
   "outputs": [
    {
     "name": "stderr",
     "output_type": "stream",
     "text": [
      "C:\\Users\\ETTO\\AppData\\Local\\Temp/ipykernel_11604/3548171298.py:1: FutureWarning: Dropping of nuisance columns in DataFrame reductions (with 'numeric_only=None') is deprecated; in a future version this will raise TypeError.  Select only valid columns before calling the reduction.\n",
      "  data_set[data_set['lunch'] != 'free/reduced'].mean()\n"
     ]
    },
    {
     "data": {
      "text/plain": "math score       70.034109\nreading score    71.654264\nwriting score    70.823256\ndtype: float64"
     },
     "execution_count": 420,
     "metadata": {},
     "output_type": "execute_result"
    }
   ],
   "source": [
    "data_set[data_set['lunch'] != 'free/reduced'].mean()"
   ],
   "metadata": {
    "collapsed": false,
    "pycharm": {
     "name": "#%%\n"
    }
   }
  },
  {
   "cell_type": "code",
   "execution_count": 421,
   "outputs": [
    {
     "name": "stderr",
     "output_type": "stream",
     "text": [
      "C:\\Users\\ETTO\\AppData\\Local\\Temp/ipykernel_11604/1900144017.py:1: FutureWarning: Dropping of nuisance columns in DataFrame reductions (with 'numeric_only=None') is deprecated; in a future version this will raise TypeError.  Select only valid columns before calling the reduction.\n",
      "  data_set[data_set['lunch'] != 'free/reduced'].var()\n"
     ]
    },
    {
     "data": {
      "text/plain": "math score       186.418089\nreading score    191.285560\nwriting score    205.620887\ndtype: float64"
     },
     "execution_count": 421,
     "metadata": {},
     "output_type": "execute_result"
    }
   ],
   "source": [
    "data_set[data_set['lunch'] != 'free/reduced'].var()"
   ],
   "metadata": {
    "collapsed": false,
    "pycharm": {
     "name": "#%%\n"
    }
   }
  },
  {
   "cell_type": "code",
   "execution_count": 422,
   "outputs": [],
   "source": [
    "data_set = pd.read_csv('https://stepik.org/media/attachments/course/4852/dota_hero_stats.csv')"
   ],
   "metadata": {
    "collapsed": false,
    "pycharm": {
     "name": "#%%\n"
    }
   }
  },
  {
   "cell_type": "code",
   "execution_count": 423,
   "outputs": [
    {
     "data": {
      "text/plain": "11"
     },
     "execution_count": 423,
     "metadata": {},
     "output_type": "execute_result"
    }
   ],
   "source": [
    "len(data_set[data_set['legs'] == 0])"
   ],
   "metadata": {
    "collapsed": false,
    "pycharm": {
     "name": "#%%\n"
    }
   }
  },
  {
   "cell_type": "code",
   "execution_count": 424,
   "outputs": [
    {
     "data": {
      "text/plain": "95"
     },
     "execution_count": 424,
     "metadata": {},
     "output_type": "execute_result"
    }
   ],
   "source": [
    "len(data_set[data_set['legs'] == 2])"
   ],
   "metadata": {
    "collapsed": false,
    "pycharm": {
     "name": "#%%\n"
    }
   }
  },
  {
   "cell_type": "code",
   "execution_count": 425,
   "outputs": [
    {
     "data": {
      "text/plain": "7"
     },
     "execution_count": 425,
     "metadata": {},
     "output_type": "execute_result"
    }
   ],
   "source": [
    "len(data_set[data_set['legs'] == 4])"
   ],
   "metadata": {
    "collapsed": false,
    "pycharm": {
     "name": "#%%\n"
    }
   }
  },
  {
   "cell_type": "code",
   "execution_count": 426,
   "outputs": [
    {
     "data": {
      "text/plain": "3"
     },
     "execution_count": 426,
     "metadata": {},
     "output_type": "execute_result"
    }
   ],
   "source": [
    "len(data_set[data_set['legs'] == 6])"
   ],
   "metadata": {
    "collapsed": false,
    "pycharm": {
     "name": "#%%\n"
    }
   }
  },
  {
   "cell_type": "code",
   "execution_count": 427,
   "outputs": [
    {
     "data": {
      "text/plain": "1"
     },
     "execution_count": 427,
     "metadata": {},
     "output_type": "execute_result"
    }
   ],
   "source": [
    "len(data_set[data_set['legs'] == 8])"
   ],
   "metadata": {
    "collapsed": false,
    "pycharm": {
     "name": "#%%\n"
    }
   }
  },
  {
   "cell_type": "code",
   "execution_count": 428,
   "outputs": [],
   "source": [
    "data_set = pd.read_csv('https://stepik.org/media/attachments/course/4852/accountancy.csv')"
   ],
   "metadata": {
    "collapsed": false,
    "pycharm": {
     "name": "#%%\n"
    }
   }
  },
  {
   "cell_type": "code",
   "execution_count": 429,
   "outputs": [
    {
     "data": {
      "text/plain": "                   Salary\nExecutor Type            \nLoopa    A      58.000000\n         B     145.166667\n         C     154.333333\n         D     137.714286\n         E     164.000000\n         F     238.000000\nPupa     A     160.833333\n         B      77.000000\n         C      74.500000\n         D     146.500000\n         E     131.200000\n         F     136.250000",
      "text/html": "<div>\n<style scoped>\n    .dataframe tbody tr th:only-of-type {\n        vertical-align: middle;\n    }\n\n    .dataframe tbody tr th {\n        vertical-align: top;\n    }\n\n    .dataframe thead th {\n        text-align: right;\n    }\n</style>\n<table border=\"1\" class=\"dataframe\">\n  <thead>\n    <tr style=\"text-align: right;\">\n      <th></th>\n      <th></th>\n      <th>Salary</th>\n    </tr>\n    <tr>\n      <th>Executor</th>\n      <th>Type</th>\n      <th></th>\n    </tr>\n  </thead>\n  <tbody>\n    <tr>\n      <th rowspan=\"6\" valign=\"top\">Loopa</th>\n      <th>A</th>\n      <td>58.000000</td>\n    </tr>\n    <tr>\n      <th>B</th>\n      <td>145.166667</td>\n    </tr>\n    <tr>\n      <th>C</th>\n      <td>154.333333</td>\n    </tr>\n    <tr>\n      <th>D</th>\n      <td>137.714286</td>\n    </tr>\n    <tr>\n      <th>E</th>\n      <td>164.000000</td>\n    </tr>\n    <tr>\n      <th>F</th>\n      <td>238.000000</td>\n    </tr>\n    <tr>\n      <th rowspan=\"6\" valign=\"top\">Pupa</th>\n      <th>A</th>\n      <td>160.833333</td>\n    </tr>\n    <tr>\n      <th>B</th>\n      <td>77.000000</td>\n    </tr>\n    <tr>\n      <th>C</th>\n      <td>74.500000</td>\n    </tr>\n    <tr>\n      <th>D</th>\n      <td>146.500000</td>\n    </tr>\n    <tr>\n      <th>E</th>\n      <td>131.200000</td>\n    </tr>\n    <tr>\n      <th>F</th>\n      <td>136.250000</td>\n    </tr>\n  </tbody>\n</table>\n</div>"
     },
     "execution_count": 429,
     "metadata": {},
     "output_type": "execute_result"
    }
   ],
   "source": [
    "data_set.groupby(['Executor', 'Type']).mean().drop('Unnamed: 0', axis=1)"
   ],
   "metadata": {
    "collapsed": false,
    "pycharm": {
     "name": "#%%\n"
    }
   }
  },
  {
   "cell_type": "code",
   "execution_count": 430,
   "outputs": [],
   "source": [
    "data_set = pd.read_csv('https://stepik.org/media/attachments/course/4852/dota_hero_stats.csv')"
   ],
   "metadata": {
    "collapsed": false,
    "pycharm": {
     "name": "#%%\n"
    }
   }
  },
  {
   "cell_type": "code",
   "execution_count": 431,
   "outputs": [
    {
     "data": {
      "text/plain": "                          Unnamed: 0  id  legs  localized_name  name  roles\nattack_type primary_attr                                                   \nMelee       agi                   19  19    19              19    19     19\n            int                    2   2     2               2     2      2\n            str                   35  35    35              35    35     35\nRanged      agi                   18  18    18              18    18     18\n            int                   40  40    40              40    40     40\n            str                    3   3     3               3     3      3",
      "text/html": "<div>\n<style scoped>\n    .dataframe tbody tr th:only-of-type {\n        vertical-align: middle;\n    }\n\n    .dataframe tbody tr th {\n        vertical-align: top;\n    }\n\n    .dataframe thead th {\n        text-align: right;\n    }\n</style>\n<table border=\"1\" class=\"dataframe\">\n  <thead>\n    <tr style=\"text-align: right;\">\n      <th></th>\n      <th></th>\n      <th>Unnamed: 0</th>\n      <th>id</th>\n      <th>legs</th>\n      <th>localized_name</th>\n      <th>name</th>\n      <th>roles</th>\n    </tr>\n    <tr>\n      <th>attack_type</th>\n      <th>primary_attr</th>\n      <th></th>\n      <th></th>\n      <th></th>\n      <th></th>\n      <th></th>\n      <th></th>\n    </tr>\n  </thead>\n  <tbody>\n    <tr>\n      <th rowspan=\"3\" valign=\"top\">Melee</th>\n      <th>agi</th>\n      <td>19</td>\n      <td>19</td>\n      <td>19</td>\n      <td>19</td>\n      <td>19</td>\n      <td>19</td>\n    </tr>\n    <tr>\n      <th>int</th>\n      <td>2</td>\n      <td>2</td>\n      <td>2</td>\n      <td>2</td>\n      <td>2</td>\n      <td>2</td>\n    </tr>\n    <tr>\n      <th>str</th>\n      <td>35</td>\n      <td>35</td>\n      <td>35</td>\n      <td>35</td>\n      <td>35</td>\n      <td>35</td>\n    </tr>\n    <tr>\n      <th rowspan=\"3\" valign=\"top\">Ranged</th>\n      <th>agi</th>\n      <td>18</td>\n      <td>18</td>\n      <td>18</td>\n      <td>18</td>\n      <td>18</td>\n      <td>18</td>\n    </tr>\n    <tr>\n      <th>int</th>\n      <td>40</td>\n      <td>40</td>\n      <td>40</td>\n      <td>40</td>\n      <td>40</td>\n      <td>40</td>\n    </tr>\n    <tr>\n      <th>str</th>\n      <td>3</td>\n      <td>3</td>\n      <td>3</td>\n      <td>3</td>\n      <td>3</td>\n      <td>3</td>\n    </tr>\n  </tbody>\n</table>\n</div>"
     },
     "execution_count": 431,
     "metadata": {},
     "output_type": "execute_result"
    }
   ],
   "source": [
    "data_set.groupby(['attack_type', 'primary_attr']).count()"
   ],
   "metadata": {
    "collapsed": false,
    "pycharm": {
     "name": "#%%\n"
    }
   }
  },
  {
   "cell_type": "code",
   "execution_count": 432,
   "outputs": [],
   "source": [
    "data_set = pd.read_csv('http://stepik.org/media/attachments/course/4852/algae.csv')"
   ],
   "metadata": {
    "collapsed": false,
    "pycharm": {
     "name": "#%%\n"
    }
   }
  },
  {
   "cell_type": "code",
   "execution_count": 433,
   "outputs": [
    {
     "data": {
      "text/plain": "group\nbrown    5.468942\ngreen    3.950113\nred           NaN\nName: citrate, dtype: float64"
     },
     "execution_count": 433,
     "metadata": {},
     "output_type": "execute_result"
    }
   ],
   "source": [
    "data_set.groupby('group')['citrate'].var()"
   ],
   "metadata": {
    "collapsed": false,
    "pycharm": {
     "name": "#%%\n"
    }
   }
  },
  {
   "cell_type": "code",
   "execution_count": 434,
   "outputs": [],
   "source": [
    "import seaborn as sns\n",
    "%matplotlib inline"
   ],
   "metadata": {
    "collapsed": false,
    "pycharm": {
     "name": "#%%\n"
    }
   }
  },
  {
   "cell_type": "code",
   "execution_count": 435,
   "outputs": [],
   "source": [
    "data_set = pd.read_csv('https://stepik.org/media/attachments/course/4852/income.csv')"
   ],
   "metadata": {
    "collapsed": false,
    "pycharm": {
     "name": "#%%\n"
    }
   }
  },
  {
   "cell_type": "code",
   "execution_count": 436,
   "outputs": [
    {
     "data": {
      "text/plain": "<AxesSubplot:>"
     },
     "execution_count": 436,
     "metadata": {},
     "output_type": "execute_result"
    },
    {
     "data": {
      "text/plain": "<Figure size 432x288 with 1 Axes>",
      "image/png": "[encoded data removed]"
     },
     "metadata": {
      "needs_background": "light"
     },
     "output_type": "display_data"
    }
   ],
   "source": [
    "sns.lineplot(data=data_set)"
   ],
   "metadata": {
    "collapsed": false,
    "pycharm": {
     "name": "#%%\n"
    }
   }
  },
  {
   "cell_type": "code",
   "execution_count": 437,
   "outputs": [
    {
     "data": {
      "text/plain": "<AxesSubplot:>"
     },
     "execution_count": 437,
     "metadata": {},
     "output_type": "execute_result"
    },
    {
     "data": {
      "text/plain": "<Figure size 432x288 with 1 Axes>",
      "image/png": "[encoded data removed]"
     },
     "metadata": {
      "needs_background": "light"
     },
     "output_type": "display_data"
    }
   ],
   "source": [
    "data_set['income'].plot()"
   ],
   "metadata": {
    "collapsed": false,
    "pycharm": {
     "name": "#%%\n"
    }
   }
  },
  {
   "cell_type": "code",
   "execution_count": 438,
   "outputs": [
    {
     "data": {
      "text/plain": "<AxesSubplot:>"
     },
     "execution_count": 438,
     "metadata": {},
     "output_type": "execute_result"
    },
    {
     "data": {
      "text/plain": "<Figure size 432x288 with 1 Axes>",
      "image/png": "[encoded data removed]"
     },
     "metadata": {
      "needs_background": "light"
     },
     "output_type": "display_data"
    }
   ],
   "source": [
    "data_set.plot(kind='line')"
   ],
   "metadata": {
    "collapsed": false,
    "pycharm": {
     "name": "#%%\n"
    }
   }
  },
  {
   "cell_type": "code",
   "execution_count": 439,
   "outputs": [],
   "source": [
    "data_set = pd.read_csv('dataset_209770_6.txt', sep=' ', dtype=float)"
   ],
   "metadata": {
    "collapsed": false,
    "pycharm": {
     "name": "#%%\n"
    }
   }
  },
  {
   "cell_type": "code",
   "execution_count": 440,
   "outputs": [
    {
     "data": {
      "text/plain": "              x            y\n0    804.145986   402.409665\n1   1010.821705   295.198216\n2   1197.621742   990.505935\n3   1004.833319   294.907797\n4    389.181907  1099.499786\n5   1013.298988   287.953610\n6   1001.879214   302.193667\n7    391.804065  1097.551789\n8   1008.534193   297.388237\n9   1000.655036   282.053706\n10   812.594507   397.610105\n11  1215.967519   994.856718\n12  1206.939507   994.195340\n13  1186.843917   985.655139\n14  1189.446439  1003.507828\n15  1205.554291  1000.210994\n16   792.354503   412.844764\n17  1206.452200   987.585300\n18   801.517394   403.272244\n19   410.636277  1088.846689\n20   797.284246   383.056141\n21   404.112979  1099.356788\n22   404.904961  1105.519955\n23   802.902064   393.128270\n24  1198.104574  1014.061183\n25  1001.614573   293.282076\n26  1183.933229   997.179027\n27   385.066570  1084.552554\n28   996.911628   307.513692\n29   388.696686  1095.391158\n30   815.175766   396.033175\n31   400.234700  1089.625157\n32   984.371597   289.067557\n33   395.879157  1097.045246\n34  1196.843847  1005.283609\n35   797.370249   410.377790\n36   804.684691   400.404984\n37   392.554492  1106.324747\n38   999.997073   302.278545\n39   793.315708   401.006459",
      "text/html": "<div>\n<style scoped>\n    .dataframe tbody tr th:only-of-type {\n        vertical-align: middle;\n    }\n\n    .dataframe tbody tr th {\n        vertical-align: top;\n    }\n\n    .dataframe thead th {\n        text-align: right;\n    }\n</style>\n<table border=\"1\" class=\"dataframe\">\n  <thead>\n    <tr style=\"text-align: right;\">\n      <th></th>\n      <th>x</th>\n      <th>y</th>\n    </tr>\n  </thead>\n  <tbody>\n    <tr>\n      <th>0</th>\n      <td>804.145986</td>\n      <td>402.409665</td>\n    </tr>\n    <tr>\n      <th>1</th>\n      <td>1010.821705</td>\n      <td>295.198216</td>\n    </tr>\n    <tr>\n      <th>2</th>\n      <td>1197.621742</td>\n      <td>990.505935</td>\n    </tr>\n    <tr>\n      <th>3</th>\n      <td>1004.833319</td>\n      <td>294.907797</td>\n    </tr>\n    <tr>\n      <th>4</th>\n      <td>389.181907</td>\n      <td>1099.499786</td>\n    </tr>\n    <tr>\n      <th>5</th>\n      <td>1013.298988</td>\n      <td>287.953610</td>\n    </tr>\n    <tr>\n      <th>6</th>\n      <td>1001.879214</td>\n      <td>302.193667</td>\n    </tr>\n    <tr>\n      <th>7</th>\n      <td>391.804065</td>\n      <td>1097.551789</td>\n    </tr>\n    <tr>\n      <th>8</th>\n      <td>1008.534193</td>\n      <td>297.388237</td>\n    </tr>\n    <tr>\n      <th>9</th>\n      <td>1000.655036</td>\n      <td>282.053706</td>\n    </tr>\n    <tr>\n      <th>10</th>\n      <td>812.594507</td>\n      <td>397.610105</td>\n    </tr>\n    <tr>\n      <th>11</th>\n      <td>1215.967519</td>\n      <td>994.856718</td>\n    </tr>\n    <tr>\n      <th>12</th>\n      <td>1206.939507</td>\n      <td>994.195340</td>\n    </tr>\n    <tr>\n      <th>13</th>\n      <td>1186.843917</td>\n      <td>985.655139</td>\n    </tr>\n    <tr>\n      <th>14</th>\n      <td>1189.446439</td>\n      <td>1003.507828</td>\n    </tr>\n    <tr>\n      <th>15</th>\n      <td>1205.554291</td>\n      <td>1000.210994</td>\n    </tr>\n    <tr>\n      <th>16</th>\n      <td>792.354503</td>\n      <td>412.844764</td>\n    </tr>\n    <tr>\n      <th>17</th>\n      <td>1206.452200</td>\n      <td>987.585300</td>\n    </tr>\n    <tr>\n      <th>18</th>\n      <td>801.517394</td>\n      <td>403.272244</td>\n    </tr>\n    <tr>\n      <th>19</th>\n      <td>410.636277</td>\n      <td>1088.846689</td>\n    </tr>\n    <tr>\n      <th>20</th>\n      <td>797.284246</td>\n      <td>383.056141</td>\n    </tr>\n    <tr>\n      <th>21</th>\n      <td>404.112979</td>\n      <td>1099.356788</td>\n    </tr>\n    <tr>\n      <th>22</th>\n      <td>404.904961</td>\n      <td>1105.519955</td>\n    </tr>\n    <tr>\n      <th>23</th>\n      <td>802.902064</td>\n      <td>393.128270</td>\n    </tr>\n    <tr>\n      <th>24</th>\n      <td>1198.104574</td>\n      <td>1014.061183</td>\n    </tr>\n    <tr>\n      <th>25</th>\n      <td>1001.614573</td>\n      <td>293.282076</td>\n    </tr>\n    <tr>\n      <th>26</th>\n      <td>1183.933229</td>\n      <td>997.179027</td>\n    </tr>\n    <tr>\n      <th>27</th>\n      <td>385.066570</td>\n      <td>1084.552554</td>\n    </tr>\n    <tr>\n      <th>28</th>\n      <td>996.911628</td>\n      <td>307.513692</td>\n    </tr>\n    <tr>\n      <th>29</th>\n      <td>388.696686</td>\n      <td>1095.391158</td>\n    </tr>\n    <tr>\n      <th>30</th>\n      <td>815.175766</td>\n      <td>396.033175</td>\n    </tr>\n    <tr>\n      <th>31</th>\n      <td>400.234700</td>\n      <td>1089.625157</td>\n    </tr>\n    <tr>\n      <th>32</th>\n      <td>984.371597</td>\n      <td>289.067557</td>\n    </tr>\n    <tr>\n      <th>33</th>\n      <td>395.879157</td>\n      <td>1097.045246</td>\n    </tr>\n    <tr>\n      <th>34</th>\n      <td>1196.843847</td>\n      <td>1005.283609</td>\n    </tr>\n    <tr>\n      <th>35</th>\n      <td>797.370249</td>\n      <td>410.377790</td>\n    </tr>\n    <tr>\n      <th>36</th>\n      <td>804.684691</td>\n      <td>400.404984</td>\n    </tr>\n    <tr>\n      <th>37</th>\n      <td>392.554492</td>\n      <td>1106.324747</td>\n    </tr>\n    <tr>\n      <th>38</th>\n      <td>999.997073</td>\n      <td>302.278545</td>\n    </tr>\n    <tr>\n      <th>39</th>\n      <td>793.315708</td>\n      <td>401.006459</td>\n    </tr>\n  </tbody>\n</table>\n</div>"
     },
     "execution_count": 440,
     "metadata": {},
     "output_type": "execute_result"
    }
   ],
   "source": [
    "data_set"
   ],
   "metadata": {
    "collapsed": false,
    "pycharm": {
     "name": "#%%\n"
    }
   }
  },
  {
   "cell_type": "code",
   "execution_count": 441,
   "outputs": [
    {
     "data": {
      "text/plain": "<AxesSubplot:xlabel='x', ylabel='y'>"
     },
     "execution_count": 441,
     "metadata": {},
     "output_type": "execute_result"
    },
    {
     "data": {
      "text/plain": "<Figure size 432x288 with 1 Axes>",
      "image/png": "[encoded data removed]"
     },
     "metadata": {
      "needs_background": "light"
     },
     "output_type": "display_data"
    }
   ],
   "source": [
    "data_set.plot.scatter(x='x', y='y')"
   ],
   "metadata": {
    "collapsed": false,
    "pycharm": {
     "name": "#%%\n"
    }
   }
  },
  {
   "cell_type": "code",
   "execution_count": 442,
   "outputs": [],
   "source": [
    "data_set = pd.read_csv('https://stepik.org/media/attachments/course/4852/genome_matrix.csv')"
   ],
   "metadata": {
    "collapsed": false,
    "pycharm": {
     "name": "#%%\n"
    }
   }
  },
  {
   "cell_type": "code",
   "execution_count": 443,
   "outputs": [
    {
     "data": {
      "text/plain": "  Unnamed: 0  species0  species1  species2  species3  species4\n0   species0  0.536029  0.920292  0.679708  0.840606  0.430842\n1   species1  0.920292  0.862417  0.887593  0.769754  0.203214\n2   species2  0.679708  0.887593  0.595156  0.003435  0.096052\n3   species3  0.840606  0.769754  0.003435  0.458870  0.029251\n4   species4  0.430842  0.203214  0.096052  0.029251  0.642109",
      "text/html": "<div>\n<style scoped>\n    .dataframe tbody tr th:only-of-type {\n        vertical-align: middle;\n    }\n\n    .dataframe tbody tr th {\n        vertical-align: top;\n    }\n\n    .dataframe thead th {\n        text-align: right;\n    }\n</style>\n<table border=\"1\" class=\"dataframe\">\n  <thead>\n    <tr style=\"text-align: right;\">\n      <th></th>\n      <th>Unnamed: 0</th>\n      <th>species0</th>\n      <th>species1</th>\n      <th>species2</th>\n      <th>species3</th>\n      <th>species4</th>\n    </tr>\n  </thead>\n  <tbody>\n    <tr>\n      <th>0</th>\n      <td>species0</td>\n      <td>0.536029</td>\n      <td>0.920292</td>\n      <td>0.679708</td>\n      <td>0.840606</td>\n      <td>0.430842</td>\n    </tr>\n    <tr>\n      <th>1</th>\n      <td>species1</td>\n      <td>0.920292</td>\n      <td>0.862417</td>\n      <td>0.887593</td>\n      <td>0.769754</td>\n      <td>0.203214</td>\n    </tr>\n    <tr>\n      <th>2</th>\n      <td>species2</td>\n      <td>0.679708</td>\n      <td>0.887593</td>\n      <td>0.595156</td>\n      <td>0.003435</td>\n      <td>0.096052</td>\n    </tr>\n    <tr>\n      <th>3</th>\n      <td>species3</td>\n      <td>0.840606</td>\n      <td>0.769754</td>\n      <td>0.003435</td>\n      <td>0.458870</td>\n      <td>0.029251</td>\n    </tr>\n    <tr>\n      <th>4</th>\n      <td>species4</td>\n      <td>0.430842</td>\n      <td>0.203214</td>\n      <td>0.096052</td>\n      <td>0.029251</td>\n      <td>0.642109</td>\n    </tr>\n  </tbody>\n</table>\n</div>"
     },
     "execution_count": 443,
     "metadata": {},
     "output_type": "execute_result"
    }
   ],
   "source": [
    "data_set"
   ],
   "metadata": {
    "collapsed": false,
    "pycharm": {
     "name": "#%%\n"
    }
   }
  },
  {
   "cell_type": "code",
   "execution_count": 444,
   "outputs": [
    {
     "data": {
      "text/plain": "<Figure size 432x288 with 2 Axes>",
      "image/png": "[encoded data removed]"
     },
     "metadata": {
      "needs_background": "light"
     },
     "output_type": "display_data"
    }
   ],
   "source": [
    "head = data_set['Unnamed: 0']\n",
    "data_set = data_set.drop('Unnamed: 0', axis=1)\n",
    "g = sns.heatmap(data_set, cmap=\"viridis\", xticklabels=head, yticklabels=head)\n",
    "g.xaxis.set_ticks_position('top')\n",
    "g.xaxis.set_tick_params(rotation=90)"
   ],
   "metadata": {
    "collapsed": false,
    "pycharm": {
     "name": "#%%\n"
    }
   }
  },
  {
   "cell_type": "code",
   "execution_count": 473,
   "outputs": [],
   "source": [
    "data_set = pd.read_csv('https://stepik.org/media/attachments/course/4852/dota_hero_stats.csv')"
   ],
   "metadata": {
    "collapsed": false,
    "pycharm": {
     "name": "#%%\n"
    }
   }
  },
  {
   "cell_type": "code",
   "execution_count": 446,
   "outputs": [
    {
     "data": {
      "text/plain": "     Unnamed: 0 attack_type   id  legs  localized_name  \\\n0             0       Melee    1     2       Anti-Mage   \n1             1       Melee    2     2             Axe   \n2             2      Ranged    3     4            Bane   \n3             3       Melee    4     2     Bloodseeker   \n4             4      Ranged    5     2  Crystal Maiden   \n..          ...         ...  ...   ...             ...   \n112         112       Melee  114     2     Monkey King   \n113         113      Ranged  119     2     Dark Willow   \n114         114       Melee  120     2       Pangolier   \n115         115      Ranged  121     2      Grimstroke   \n116         116       Melee  129     2            Mars   \n\n                             name primary_attr  \\\n0          npc_dota_hero_antimage          agi   \n1               npc_dota_hero_axe          str   \n2              npc_dota_hero_bane          int   \n3       npc_dota_hero_bloodseeker          agi   \n4    npc_dota_hero_crystal_maiden          int   \n..                            ...          ...   \n112     npc_dota_hero_monkey_king          agi   \n113     npc_dota_hero_dark_willow          int   \n114       npc_dota_hero_pangolier          agi   \n115      npc_dota_hero_grimstroke          int   \n116            npc_dota_hero_mars          str   \n\n                                                 roles  \n0                         ['Carry', 'Escape', 'Nuker']  \n1      ['Initiator', 'Durable', 'Disabler', 'Jungler']  \n2          ['Support', 'Disabler', 'Nuker', 'Durable']  \n3    ['Carry', 'Disabler', 'Jungler', 'Nuker', 'Ini...  \n4          ['Support', 'Disabler', 'Nuker', 'Jungler']  \n..                                                 ...  \n112       ['Carry', 'Escape', 'Disabler', 'Initiator']  \n113         ['Support', 'Nuker', 'Disabler', 'Escape']  \n114  ['Carry', 'Nuker', 'Disabler', 'Durable', 'Esc...  \n115         ['Support', 'Nuker', 'Disabler', 'Escape']  \n116      ['Carry', 'Initiator', 'Disabler', 'Durable']  \n\n[117 rows x 8 columns]",
      "text/html": "<div>\n<style scoped>\n    .dataframe tbody tr th:only-of-type {\n        vertical-align: middle;\n    }\n\n    .dataframe tbody tr th {\n        vertical-align: top;\n    }\n\n    .dataframe thead th {\n        text-align: right;\n    }\n</style>\n<table border=\"1\" class=\"dataframe\">\n  <thead>\n    <tr style=\"text-align: right;\">\n      <th></th>\n      <th>Unnamed: 0</th>\n      <th>attack_type</th>\n      <th>id</th>\n      <th>legs</th>\n      <th>localized_name</th>\n      <th>name</th>\n      <th>primary_attr</th>\n      <th>roles</th>\n    </tr>\n  </thead>\n  <tbody>\n    <tr>\n      <th>0</th>\n      <td>0</td>\n      <td>Melee</td>\n      <td>1</td>\n      <td>2</td>\n      <td>Anti-Mage</td>\n      <td>npc_dota_hero_antimage</td>\n      <td>agi</td>\n      <td>['Carry', 'Escape', 'Nuker']</td>\n    </tr>\n    <tr>\n      <th>1</th>\n      <td>1</td>\n      <td>Melee</td>\n      <td>2</td>\n      <td>2</td>\n      <td>Axe</td>\n      <td>npc_dota_hero_axe</td>\n      <td>str</td>\n      <td>['Initiator', 'Durable', 'Disabler', 'Jungler']</td>\n    </tr>\n    <tr>\n      <th>2</th>\n      <td>2</td>\n      <td>Ranged</td>\n      <td>3</td>\n      <td>4</td>\n      <td>Bane</td>\n      <td>npc_dota_hero_bane</td>\n      <td>int</td>\n      <td>['Support', 'Disabler', 'Nuker', 'Durable']</td>\n    </tr>\n    <tr>\n      <th>3</th>\n      <td>3</td>\n      <td>Melee</td>\n      <td>4</td>\n      <td>2</td>\n      <td>Bloodseeker</td>\n      <td>npc_dota_hero_bloodseeker</td>\n      <td>agi</td>\n      <td>['Carry', 'Disabler', 'Jungler', 'Nuker', 'Ini...</td>\n    </tr>\n    <tr>\n      <th>4</th>\n      <td>4</td>\n      <td>Ranged</td>\n      <td>5</td>\n      <td>2</td>\n      <td>Crystal Maiden</td>\n      <td>npc_dota_hero_crystal_maiden</td>\n      <td>int</td>\n      <td>['Support', 'Disabler', 'Nuker', 'Jungler']</td>\n    </tr>\n    <tr>\n      <th>...</th>\n      <td>...</td>\n      <td>...</td>\n      <td>...</td>\n      <td>...</td>\n      <td>...</td>\n      <td>...</td>\n      <td>...</td>\n      <td>...</td>\n    </tr>\n    <tr>\n      <th>112</th>\n      <td>112</td>\n      <td>Melee</td>\n      <td>114</td>\n      <td>2</td>\n      <td>Monkey King</td>\n      <td>npc_dota_hero_monkey_king</td>\n      <td>agi</td>\n      <td>['Carry', 'Escape', 'Disabler', 'Initiator']</td>\n    </tr>\n    <tr>\n      <th>113</th>\n      <td>113</td>\n      <td>Ranged</td>\n      <td>119</td>\n      <td>2</td>\n      <td>Dark Willow</td>\n      <td>npc_dota_hero_dark_willow</td>\n      <td>int</td>\n      <td>['Support', 'Nuker', 'Disabler', 'Escape']</td>\n    </tr>\n    <tr>\n      <th>114</th>\n      <td>114</td>\n      <td>Melee</td>\n      <td>120</td>\n      <td>2</td>\n      <td>Pangolier</td>\n      <td>npc_dota_hero_pangolier</td>\n      <td>agi</td>\n      <td>['Carry', 'Nuker', 'Disabler', 'Durable', 'Esc...</td>\n    </tr>\n    <tr>\n      <th>115</th>\n      <td>115</td>\n      <td>Ranged</td>\n      <td>121</td>\n      <td>2</td>\n      <td>Grimstroke</td>\n      <td>npc_dota_hero_grimstroke</td>\n      <td>int</td>\n      <td>['Support', 'Nuker', 'Disabler', 'Escape']</td>\n    </tr>\n    <tr>\n      <th>116</th>\n      <td>116</td>\n      <td>Melee</td>\n      <td>129</td>\n      <td>2</td>\n      <td>Mars</td>\n      <td>npc_dota_hero_mars</td>\n      <td>str</td>\n      <td>['Carry', 'Initiator', 'Disabler', 'Durable']</td>\n    </tr>\n  </tbody>\n</table>\n<p>117 rows × 8 columns</p>\n</div>"
     },
     "execution_count": 446,
     "metadata": {},
     "output_type": "execute_result"
    }
   ],
   "source": [
    "data_set"
   ],
   "metadata": {
    "collapsed": false,
    "pycharm": {
     "name": "#%%\n"
    }
   }
  },
  {
   "cell_type": "code",
   "execution_count": 470,
   "outputs": [
    {
     "data": {
      "text/plain": "[3,\n 4,\n 4,\n 5,\n 4,\n 3,\n 4,\n 3,\n 5,\n 5,\n 2,\n 4,\n 4,\n 4,\n 4,\n 6,\n 5,\n 5,\n 6,\n 5,\n 5,\n 1,\n 6,\n 4,\n 4,\n 5,\n 5,\n 4,\n 3,\n 2,\n 3,\n 4,\n 3,\n 2,\n 4,\n 3,\n 4,\n 3,\n 5,\n 5,\n 5,\n 4,\n 2,\n 2,\n 2,\n 4,\n 3,\n 6,\n 3,\n 4,\n 5,\n 5,\n 5,\n 4,\n 3,\n 3,\n 5,\n 3,\n 5,\n 4,\n 2,\n 2,\n 4,\n 4,\n 3,\n 3,\n 3,\n 5,\n 4,\n 5,\n 3,\n 6,\n 5,\n 5,\n 3,\n 5,\n 5,\n 4,\n 4,\n 5,\n 6,\n 5,\n 5,\n 4,\n 3,\n 4,\n 4,\n 6,\n 4,\n 3,\n 5,\n 4,\n 3,\n 4,\n 5,\n 4,\n 3,\n 4,\n 3,\n 3,\n 3,\n 4,\n 5,\n 2,\n 5,\n 5,\n 5,\n 3,\n 5,\n 4,\n 3,\n 3,\n 4,\n 4,\n 6,\n 4,\n 4]"
     },
     "execution_count": 470,
     "metadata": {},
     "output_type": "execute_result"
    }
   ],
   "source": [
    "[x.count(',') + 1 for x in data_set.roles]"
   ],
   "metadata": {
    "collapsed": false,
    "pycharm": {
     "name": "#%%\n"
    }
   }
  },
  {
   "cell_type": "code",
   "execution_count": 474,
   "outputs": [],
   "source": [
    "data_set = data_set.assign(roles_count = np.array([x.count(',') + 1 for x in data_set.roles]))"
   ],
   "metadata": {
    "collapsed": false,
    "pycharm": {
     "name": "#%%\n"
    }
   }
  },
  {
   "cell_type": "code",
   "execution_count": 476,
   "outputs": [
    {
     "data": {
      "text/plain": "             Unnamed: 0  attack_type  id  legs  localized_name  name  \\\nroles_count                                                            \n1                     1            1   1     1               1     1   \n2                     9            9   9     9               9     9   \n3                    28           28  28    28              28    28   \n4                    38           38  38    38              38    38   \n5                    33           33  33    33              33    33   \n6                     8            8   8     8               8     8   \n\n             primary_attr  roles  \nroles_count                       \n1                       1      1  \n2                       9      9  \n3                      28     28  \n4                      38     38  \n5                      33     33  \n6                       8      8  ",
      "text/html": "<div>\n<style scoped>\n    .dataframe tbody tr th:only-of-type {\n        vertical-align: middle;\n    }\n\n    .dataframe tbody tr th {\n        vertical-align: top;\n    }\n\n    .dataframe thead th {\n        text-align: right;\n    }\n</style>\n<table border=\"1\" class=\"dataframe\">\n  <thead>\n    <tr style=\"text-align: right;\">\n      <th></th>\n      <th>Unnamed: 0</th>\n      <th>attack_type</th>\n      <th>id</th>\n      <th>legs</th>\n      <th>localized_name</th>\n      <th>name</th>\n      <th>primary_attr</th>\n      <th>roles</th>\n    </tr>\n    <tr>\n      <th>roles_count</th>\n      <th></th>\n      <th></th>\n      <th></th>\n      <th></th>\n      <th></th>\n      <th></th>\n      <th></th>\n      <th></th>\n    </tr>\n  </thead>\n  <tbody>\n    <tr>\n      <th>1</th>\n      <td>1</td>\n      <td>1</td>\n      <td>1</td>\n      <td>1</td>\n      <td>1</td>\n      <td>1</td>\n      <td>1</td>\n      <td>1</td>\n    </tr>\n    <tr>\n      <th>2</th>\n      <td>9</td>\n      <td>9</td>\n      <td>9</td>\n      <td>9</td>\n      <td>9</td>\n      <td>9</td>\n      <td>9</td>\n      <td>9</td>\n    </tr>\n    <tr>\n      <th>3</th>\n      <td>28</td>\n      <td>28</td>\n      <td>28</td>\n      <td>28</td>\n      <td>28</td>\n      <td>28</td>\n      <td>28</td>\n      <td>28</td>\n    </tr>\n    <tr>\n      <th>4</th>\n      <td>38</td>\n      <td>38</td>\n      <td>38</td>\n      <td>38</td>\n      <td>38</td>\n      <td>38</td>\n      <td>38</td>\n      <td>38</td>\n    </tr>\n    <tr>\n      <th>5</th>\n      <td>33</td>\n      <td>33</td>\n      <td>33</td>\n      <td>33</td>\n      <td>33</td>\n      <td>33</td>\n      <td>33</td>\n      <td>33</td>\n    </tr>\n    <tr>\n      <th>6</th>\n      <td>8</td>\n      <td>8</td>\n      <td>8</td>\n      <td>8</td>\n      <td>8</td>\n      <td>8</td>\n      <td>8</td>\n      <td>8</td>\n    </tr>\n  </tbody>\n</table>\n</div>"
     },
     "execution_count": 476,
     "metadata": {},
     "output_type": "execute_result"
    }
   ],
   "source": [
    "data_set.groupby('roles_count').count()"
   ],
   "metadata": {
    "collapsed": false,
    "pycharm": {
     "name": "#%%\n"
    }
   }
  }
 ],
 "metadata": {
  "kernelspec": {
   "display_name": "Python 3",
   "language": "python",
   "name": "python3"
  },
  "language_info": {
   "codemirror_mode": {
    "name": "ipython",
    "version": 2
   },
   "file_extension": ".py",
   "mimetype": "text/x-python",
   "name": "python",
   "nbconvert_exporter": "python",
   "pygments_lexer": "ipython2",
   "version": "2.7.6"
  }
 },
 "nbformat": 4,
 "nbformat_minor": 0
}